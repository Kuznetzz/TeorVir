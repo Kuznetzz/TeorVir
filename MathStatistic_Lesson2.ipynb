{
 "cells": [
  {
   "cell_type": "markdown",
   "metadata": {
    "heading_collapsed": true
   },
   "source": [
    "# Homework Lesson2"
   ]
  },
  {
   "cell_type": "code",
   "execution_count": 4,
   "metadata": {
    "hidden": true
   },
   "outputs": [],
   "source": [
    "import pandas as pd\n",
    "import numpy as np \n",
    "import scipy\n",
    "\n",
    "import itertools\n",
    "\n",
    "import matplotlib.pyplot as plt\n",
    "%matplotlib inline\n",
    "\n",
    "import warnings\n",
    "warnings.filterwarnings('ignore')"
   ]
  },
  {
   "cell_type": "markdown",
   "metadata": {},
   "source": [
    "# Урок 2"
   ]
  },
  {
   "cell_type": "markdown",
   "metadata": {},
   "source": [
    "####  Задача 1 .\n",
    "*****\n",
    "##### Контрольная работа состоит из пяти вопросов. На каждый вопрос приведено четыре варианта ответа, один из которых правильный. Составьте закон распределения числа правильных ответов при простом угадывании. Найдите M(X), D(X). \n"
   ]
  },
  {
   "cell_type": "code",
   "execution_count": 2,
   "metadata": {},
   "outputs": [],
   "source": [
    "n = 5\n",
    "p = 0.25 \n",
    "q = 1 - p"
   ]
  },
  {
   "cell_type": "markdown",
   "metadata": {},
   "source": [
    "$p(k=0) = C_n^kp^kq^{n-k} = C_5^0p^0q^5 = \\frac{5!}{0!(5-0)!} \\cdot 0.25^0 \\cdot 0.75^5 = 1 \\cdot 1 \\cdot 0.2373046875 = 0.2373046875$\n",
    "\n",
    "$p(k=1) = C_n^kp^kq^{n-k} = C_5^1p^1q^4 = \\frac{5!}{1!(5-1)!} \\cdot 0.25^1 \\cdot 0.75^4 = 5 \\cdot 0.25 \\cdot 0.31640625 = 0.3955078125$\n",
    "\n",
    "$p(k=2) = C_n^kp^kq^{n-k} = C_5^2p^2q^3 = \\frac{5!}{2!(5-2)!} \\cdot 0.25^2 \\cdot 0.75^3 = 10 \\cdot 0.0625 \\cdot 0.421875 = 0.263671875$\n",
    "\n",
    "$p(k=3) = C_n^kp^kq^{n-k} = C_5^3p^3q^2 = \\frac{5!}{3!(5-3)!} \\cdot 0.25^3 \\cdot 0.75^2 = 10 \\cdot 0.015625 \\cdot 0.5625 = 0.087890625$\n",
    "\n",
    "$p(k=4) = C_n^kp^kq^{n-k} = C_5^4p^4q^1 = \\frac{5!}{4!(5-4)!} \\cdot 0.25^4 \\cdot 0.75^1 = 5 \\cdot 0.00390625 \\cdot 0.75 = 0.0146484375$\n",
    "\n",
    "$p(k=5) = C_n^kp^kq^{n-k} = C_5^5p^5q^0 = \\frac{5!}{5!(5-5)!} \\cdot 0.25^5 \\cdot 0.75^0 = 1 \\cdot 0.0009765625 \\cdot 1 = 0.0009765625$\n",
    "\n",
    "$M(X) = np = 5 \\cdot 0.25 = 1.25$\n",
    "\n",
    "$D(X) = npq = 5 \\cdot 0.25 \\cdot 0.75 = 0.9375$"
   ]
  },
  {
   "cell_type": "code",
   "execution_count": 125,
   "metadata": {},
   "outputs": [],
   "source": [
    "def binomial_distr(row):\n",
    "     return (scipy.math.factorial(n)/(\n",
    "         scipy.math.factorial(row[\"Questions\"])*scipy.math.factorial(n - row[\"Questions\"]))) * (\n",
    "         p**row[\"Questions\"]) *(q**(n-row[\"Questions\"]))\n",
    "\n",
    "control = pd.DataFrame([np.arange(6)] ).T.rename(columns={0 :\"Questions\"})\n",
    "control[\"Probability\"] = control.apply(binomial_distr, axis=1)"
   ]
  },
  {
   "cell_type": "code",
   "execution_count": 126,
   "metadata": {},
   "outputs": [
    {
     "data": {
      "text/html": [
       "<div>\n",
       "<style scoped>\n",
       "    .dataframe tbody tr th:only-of-type {\n",
       "        vertical-align: middle;\n",
       "    }\n",
       "\n",
       "    .dataframe tbody tr th {\n",
       "        vertical-align: top;\n",
       "    }\n",
       "\n",
       "    .dataframe thead th {\n",
       "        text-align: right;\n",
       "    }\n",
       "</style>\n",
       "<table border=\"1\" class=\"dataframe\">\n",
       "  <thead>\n",
       "    <tr style=\"text-align: right;\">\n",
       "      <th></th>\n",
       "      <th>0</th>\n",
       "      <th>1</th>\n",
       "      <th>2</th>\n",
       "      <th>3</th>\n",
       "      <th>4</th>\n",
       "      <th>5</th>\n",
       "    </tr>\n",
       "  </thead>\n",
       "  <tbody>\n",
       "    <tr>\n",
       "      <th>Questions</th>\n",
       "      <td>0.000000</td>\n",
       "      <td>1.000000</td>\n",
       "      <td>2.000000</td>\n",
       "      <td>3.000000</td>\n",
       "      <td>4.000000</td>\n",
       "      <td>5.000000</td>\n",
       "    </tr>\n",
       "    <tr>\n",
       "      <th>Probability</th>\n",
       "      <td>0.237305</td>\n",
       "      <td>0.395508</td>\n",
       "      <td>0.263672</td>\n",
       "      <td>0.087891</td>\n",
       "      <td>0.014648</td>\n",
       "      <td>0.000977</td>\n",
       "    </tr>\n",
       "  </tbody>\n",
       "</table>\n",
       "</div>"
      ],
      "text/plain": [
       "                    0         1         2         3         4         5\n",
       "Questions    0.000000  1.000000  2.000000  3.000000  4.000000  5.000000\n",
       "Probability  0.237305  0.395508  0.263672  0.087891  0.014648  0.000977"
      ]
     },
     "execution_count": 126,
     "metadata": {},
     "output_type": "execute_result"
    },
    {
     "data": {
      "image/png": "[encoded data removed]",
      "text/plain": [
       "<Figure size 432x288 with 1 Axes>"
      ]
     },
     "metadata": {
      "needs_background": "light"
     },
     "output_type": "display_data"
    }
   ],
   "source": [
    "plt.plot(control[\"Questions\"], control[\"Probability\"])\n",
    "plt.xlabel(\"Questions\")\n",
    "plt.ylabel(\"Probability\");\n",
    "control.T"
   ]
  },
  {
   "cell_type": "markdown",
   "metadata": {},
   "source": [
    "####  Задача 2 .\n",
    "*****\n",
    "##### Вероятность попадания в цель при одном выстреле равна 0.01. Какова вероятность того, что число попаданий при 200 выстрелах будет не менее 5 и не более 10?"
   ]
  },
  {
   "cell_type": "code",
   "execution_count": 163,
   "metadata": {
    "scrolled": true
   },
   "outputs": [],
   "source": [
    "n = 200\n",
    "p = 0.01 \n",
    "λ = n*p\n",
    "m = np.arange(0,12)"
   ]
  },
  {
   "cell_type": "markdown",
   "metadata": {},
   "source": [
    "$P_{ 4 < m < 11}  =   1 - P_{ m < 5} - P_{ m > 10} = 1 - (P_{ m = 0} +...P_{m = 4}) - (1 -(P_{ m = 0} +...P_{m = 10} ) ) \\approx 0.05264 $\n",
    "\n",
    "$P_m \\approx \\frac{\\lambda^m}{m!}e^{-\\lambda}$"
   ]
  },
  {
   "cell_type": "code",
   "execution_count": 166,
   "metadata": {},
   "outputs": [],
   "source": [
    "def puason_distr(row):\n",
    "     return (((n*p)**row[\"win\"])/scipy.math.factorial(row[\"win\"]))*np.exp(-(n*p))\n",
    "\n",
    "shooting = pd.DataFrame([m]).T.rename(columns={0 :\"win\"})\n",
    "shooting[\"Probability\"] = shooting.apply(puason_distr, axis=1)\n",
    "shooting= shooting.T"
   ]
  },
  {
   "cell_type": "code",
   "execution_count": 167,
   "metadata": {},
   "outputs": [
    {
     "data": {
      "text/html": [
       "<div>\n",
       "<style scoped>\n",
       "    .dataframe tbody tr th:only-of-type {\n",
       "        vertical-align: middle;\n",
       "    }\n",
       "\n",
       "    .dataframe tbody tr th {\n",
       "        vertical-align: top;\n",
       "    }\n",
       "\n",
       "    .dataframe thead th {\n",
       "        text-align: right;\n",
       "    }\n",
       "</style>\n",
       "<table border=\"1\" class=\"dataframe\">\n",
       "  <thead>\n",
       "    <tr style=\"text-align: right;\">\n",
       "      <th></th>\n",
       "      <th>0</th>\n",
       "      <th>1</th>\n",
       "      <th>2</th>\n",
       "      <th>3</th>\n",
       "      <th>4</th>\n",
       "      <th>5</th>\n",
       "      <th>6</th>\n",
       "      <th>7</th>\n",
       "      <th>8</th>\n",
       "      <th>9</th>\n",
       "      <th>10</th>\n",
       "      <th>11</th>\n",
       "    </tr>\n",
       "  </thead>\n",
       "  <tbody>\n",
       "    <tr>\n",
       "      <th>win</th>\n",
       "      <td>0.000000</td>\n",
       "      <td>1.000000</td>\n",
       "      <td>2.000000</td>\n",
       "      <td>3.000000</td>\n",
       "      <td>4.000000</td>\n",
       "      <td>5.000000</td>\n",
       "      <td>6.00000</td>\n",
       "      <td>7.000000</td>\n",
       "      <td>8.000000</td>\n",
       "      <td>9.000000</td>\n",
       "      <td>10.000000</td>\n",
       "      <td>11.000000</td>\n",
       "    </tr>\n",
       "    <tr>\n",
       "      <th>Probability</th>\n",
       "      <td>0.135335</td>\n",
       "      <td>0.270671</td>\n",
       "      <td>0.270671</td>\n",
       "      <td>0.180447</td>\n",
       "      <td>0.090224</td>\n",
       "      <td>0.036089</td>\n",
       "      <td>0.01203</td>\n",
       "      <td>0.003437</td>\n",
       "      <td>0.000859</td>\n",
       "      <td>0.000191</td>\n",
       "      <td>0.000038</td>\n",
       "      <td>0.000007</td>\n",
       "    </tr>\n",
       "  </tbody>\n",
       "</table>\n",
       "</div>"
      ],
      "text/plain": [
       "                   0         1         2         3         4         5   \\\n",
       "win          0.000000  1.000000  2.000000  3.000000  4.000000  5.000000   \n",
       "Probability  0.135335  0.270671  0.270671  0.180447  0.090224  0.036089   \n",
       "\n",
       "                  6         7         8         9          10         11  \n",
       "win          6.00000  7.000000  8.000000  9.000000  10.000000  11.000000  \n",
       "Probability  0.01203  0.003437  0.000859  0.000191   0.000038   0.000007  "
      ]
     },
     "execution_count": 167,
     "metadata": {},
     "output_type": "execute_result"
    }
   ],
   "source": [
    "shooting"
   ]
  },
  {
   "cell_type": "code",
   "execution_count": 168,
   "metadata": {},
   "outputs": [
    {
     "data": {
      "text/plain": [
       "0.052644709119342714"
      ]
     },
     "execution_count": 168,
     "metadata": {},
     "output_type": "execute_result"
    }
   ],
   "source": [
    "1 - shooting.iloc[1,:5].sum() - (1 - shooting.iloc[1,:11].sum())"
   ]
  },
  {
   "cell_type": "markdown",
   "metadata": {},
   "source": [
    "####  Задача 3 .\n",
    "*****\n",
    "##### В условиях предыдущей задачи сколько выстрелов нужно сделать чтобы быть уверенным с вероятностью 0.9, что хотя бы 10 раз будет совершено попадание? Подсказка. Как посчитать P(X >= k) для величины X, имеющей распределение Пуассона? Здесь предстоит немножко покодить."
   ]
  },
  {
   "cell_type": "code",
   "execution_count": 186,
   "metadata": {},
   "outputs": [],
   "source": [
    "# brute force solution \n",
    "# n = ?\n",
    "p = 0.01 \n",
    "λ = n*p\n",
    "m = 10\n",
    "P_m = 0.9"
   ]
  },
  {
   "cell_type": "markdown",
   "metadata": {},
   "source": [
    "$P_{10} \\approx \\frac{\\lambda^{10}}{10!}e^{-\\lambda}\\approx 0.9$"
   ]
  },
  {
   "cell_type": "code",
   "execution_count": 187,
   "metadata": {},
   "outputs": [],
   "source": [
    "P = 0 \n",
    "n = 0\n",
    "while P < 0.9:\n",
    "    P += (((n*p)**m)/ scipy.math.factorial(m)) * np.exp(-(n*p))\n",
    "    n += 1"
   ]
  },
  {
   "cell_type": "code",
   "execution_count": 188,
   "metadata": {},
   "outputs": [
    {
     "data": {
      "text/plain": [
       "471"
      ]
     },
     "execution_count": 188,
     "metadata": {},
     "output_type": "execute_result"
    }
   ],
   "source": [
    "n"
   ]
  },
  {
   "cell_type": "code",
   "execution_count": null,
   "metadata": {},
   "outputs": [],
   "source": []
  }
 ],
 "metadata": {
  "kernelspec": {
   "display_name": "Python 3",
   "language": "python",
   "name": "python3"
  },
  "language_info": {
   "codemirror_mode": {
    "name": "ipython",
    "version": 3
   },
   "file_extension": ".py",
   "mimetype": "text/x-python",
   "name": "python",
   "nbconvert_exporter": "python",
   "pygments_lexer": "ipython3",
   "version": "3.7.1"
  },
  "toc": {
   "base_numbering": 1,
   "nav_menu": {},
   "number_sections": true,
   "sideBar": true,
   "skip_h1_title": false,
   "title_cell": "Table of Contents",
   "title_sidebar": "Contents",
   "toc_cell": false,
   "toc_position": {},
   "toc_section_display": true,
   "toc_window_display": false
  }
 },
 "nbformat": 4,
 "nbformat_minor": 2
}
